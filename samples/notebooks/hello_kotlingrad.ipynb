{
 "cells": [
  {
   "cell_type": "code",
   "execution_count": 2,
   "metadata": {},
   "outputs": [],
   "source": [
    "@file:Repository(\"*mavenLocal\")\n",
    "@file:DependsOn(\"com.github.breandan:kotlingrad:0.4.2\")"
   ]
  },
  {
   "cell_type": "code",
   "execution_count": 3,
   "metadata": {},
   "outputs": [],
   "source": [
    "val x by SVar(DReal)\n",
    "val y by SVar(DReal)\n",
    "val z by SVar(DReal)"
   ]
  },
  {
   "cell_type": "code",
   "execution_count": 4,
   "metadata": {},
   "outputs": [
    {
     "data": {
      "text/plain": [
       "((d(d(((((1.0) + ((x) * (2.0))) + (-3.0)) + (y)) + ((z) * ((y) pow (-1.0)))) / d(y)) / d(x)) + (((z) * ((y) pow (-1.0))) * (3.0))) + (-2.0)"
      ]
     },
     "execution_count": 4,
     "metadata": {},
     "output_type": "execute_result"
    }
   ],
   "source": [
    "val t = (1 + x * 2 - 3 + y + z / y).d(y).d(x) + z / y * 3 - 2; t"
   ]
  },
  {
   "cell_type": "code",
   "execution_count": null,
   "metadata": {},
   "outputs": [],
   "source": []
  }
 ],
 "metadata": {
  "kernelspec": {
   "display_name": "Kotlin",
   "language": "kotlin",
   "name": "kotlin"
  },
  "language_info": {
   "codemirror_mode": "text/x-kotlin",
   "file_extension": ".kt",
   "mimetype": "text/x-kotlin",
   "name": "kotlin",
   "nbconvert_exporter": "",
   "pygments_lexer": "kotlin",
   "version": "1.4.30"
  }
 },
 "nbformat": 4,
 "nbformat_minor": 4
}