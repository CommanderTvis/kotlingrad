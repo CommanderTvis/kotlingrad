{
 "cells": [
  {
   "cell_type": "code",
   "execution_count": 1,
   "metadata": {},
   "outputs": [],
   "source": [
    "%use kotlingrad"
   ]
  },
  {
   "cell_type": "code",
   "execution_count": 9,
   "metadata": {
    "pycharm": {
     "name": "#%%\n"
    }
   },
   "outputs": [],
   "source": [
    "val q: SFun<*> = with(DoublePrecision) {\n",
    "    val t = x - y\n",
    "    t + t\n",
    "}"
   ]
  },
  {
   "cell_type": "code",
   "execution_count": 10,
   "metadata": {
    "pycharm": {
     "name": "#%%\n"
    }
   },
   "outputs": [
    {
     "data": {
      "text/html": [
       "<svg width=\"332px\" height=\"110px\"\n",
       " viewBox=\"0.00 0.00 332.00 110.43\" xmlns=\"http://www.w3.org/2000/svg\" xmlns:xlink=\"http://www.w3.org/1999/xlink\">\n",
       "<g id=\"graph0\" class=\"graph\" transform=\"scale(1.0 1.0) rotate(0) translate(4 106.4264)\">\n",
       "<title>%3</title>\n",
       "<!-- 1481420857 -->\n",
       "<g id=\"node1\" class=\"node\">\n",
       "<title>1481420857</title>\n",
       "<ellipse fill=\"none\" stroke=\"#000000\" stroke-width=\"2\" cx=\"297\" cy=\"-51.2132\" rx=\"27\" ry=\"21.4286\"/>\n",
       "<text text-anchor=\"middle\" x=\"297\" y=\"-46.2132\" font-family=\"Helvetica,sans-Serif\" font-size=\"20.00\" fill=\"#000000\">+</text>\n",
       "</g>\n",
       "<!-- 936233748 -->\n",
       "<g id=\"node2\" class=\"node\">\n",
       "<title>936233748</title>\n",
       "<ellipse fill=\"none\" stroke=\"#000000\" stroke-width=\"2\" cx=\"207\" cy=\"-51.2132\" rx=\"27\" ry=\"21.4286\"/>\n",
       "<text text-anchor=\"middle\" x=\"207\" y=\"-46.2132\" font-family=\"Helvetica,sans-Serif\" font-size=\"20.00\" fill=\"#000000\">+</text>\n",
       "</g>\n",
       "<!-- 936233748&#45;&gt;1481420857 -->\n",
       "<g id=\"edge1\" class=\"edge\">\n",
       "<title>936233748&#45;&gt;1481420857</title>\n",
       "<path fill=\"none\" stroke=\"#0000ff\" stroke-width=\"2\" d=\"M233.0317,-45.0272C241.7072,-44.4799 251.5339,-44.3309 260.8363,-44.5802\"/>\n",
       "<polygon fill=\"#0000ff\" stroke=\"#0000ff\" stroke-width=\"2\" points=\"260.8819,-48.0856 271.0268,-45.0309 261.1912,-41.0924 260.8819,-48.0856\"/>\n",
       "</g>\n",
       "<!-- 936233748&#45;&gt;1481420857 -->\n",
       "<g id=\"edge2\" class=\"edge\">\n",
       "<title>936233748&#45;&gt;1481420857</title>\n",
       "<path fill=\"none\" stroke=\"#ff0000\" stroke-width=\"2\" d=\"M233.0317,-57.3992C241.7072,-57.9465 251.5339,-58.0955 260.8363,-57.8462\"/>\n",
       "<polygon fill=\"#ff0000\" stroke=\"#ff0000\" stroke-width=\"2\" points=\"261.1912,-61.334 271.0268,-57.3955 260.8819,-54.3408 261.1912,-61.334\"/>\n",
       "</g>\n",
       "<!-- x -->\n",
       "<g id=\"node3\" class=\"node\">\n",
       "<title>x</title>\n",
       "<ellipse fill=\"none\" stroke=\"#000000\" stroke-width=\"2\" cx=\"117\" cy=\"-81.2132\" rx=\"27\" ry=\"21.4286\"/>\n",
       "<text text-anchor=\"middle\" x=\"117\" y=\"-76.2132\" font-family=\"Helvetica,sans-Serif\" font-size=\"20.00\" fill=\"#000000\">x</text>\n",
       "</g>\n",
       "<!-- x&#45;&gt;936233748 -->\n",
       "<g id=\"edge3\" class=\"edge\">\n",
       "<title>x&#45;&gt;936233748</title>\n",
       "<path fill=\"none\" stroke=\"#0000ff\" stroke-width=\"2\" d=\"M138.7865,-68.0728C148.1693,-64.1708 159.4063,-60.1667 170.0268,-56.884\"/>\n",
       "<polygon fill=\"#0000ff\" stroke=\"#0000ff\" stroke-width=\"2\" points=\"171.3245,-60.1511 179.9398,-53.9846 169.3594,-53.4326 171.3245,-60.1511\"/>\n",
       "</g>\n",
       "<!-- x&#45;&gt;936233748 -->\n",
       "<g id=\"edge4\" class=\"edge\">\n",
       "<title>x&#45;&gt;936233748</title>\n",
       "<path fill=\"none\" stroke=\"#0000ff\" stroke-width=\"2\" d=\"M144.003,-78.4575C154.0478,-75.703 165.525,-71.9471 175.907,-68.0325\"/>\n",
       "<polygon fill=\"#0000ff\" stroke=\"#0000ff\" stroke-width=\"2\" points=\"177.4327,-71.1928 185.4428,-64.2581 174.8565,-64.6841 177.4327,-71.1928\"/>\n",
       "</g>\n",
       "<!-- 1859686420 -->\n",
       "<g id=\"node4\" class=\"node\">\n",
       "<title>1859686420</title>\n",
       "<ellipse fill=\"none\" stroke=\"#000000\" stroke-width=\"2\" cx=\"117\" cy=\"-21.2132\" rx=\"27\" ry=\"21.4286\"/>\n",
       "<text text-anchor=\"middle\" x=\"117\" y=\"-16.2132\" font-family=\"Helvetica,sans-Serif\" font-size=\"20.00\" fill=\"#000000\">&#45;</text>\n",
       "</g>\n",
       "<!-- 1859686420&#45;&gt;936233748 -->\n",
       "<g id=\"edge5\" class=\"edge\">\n",
       "<title>1859686420&#45;&gt;936233748</title>\n",
       "<path fill=\"none\" stroke=\"#ff0000\" stroke-width=\"2\" d=\"M144.003,-23.9689C154.0478,-26.7234 165.525,-30.4793 175.907,-34.3939\"/>\n",
       "<polygon fill=\"#ff0000\" stroke=\"#ff0000\" stroke-width=\"2\" points=\"174.8565,-37.7423 185.4428,-38.1683 177.4327,-31.2336 174.8565,-37.7423\"/>\n",
       "</g>\n",
       "<!-- 1859686420&#45;&gt;936233748 -->\n",
       "<g id=\"edge6\" class=\"edge\">\n",
       "<title>1859686420&#45;&gt;936233748</title>\n",
       "<path fill=\"none\" stroke=\"#ff0000\" stroke-width=\"2\" d=\"M138.7865,-34.3536C148.1693,-38.2556 159.4063,-42.2597 170.0268,-45.5424\"/>\n",
       "<polygon fill=\"#ff0000\" stroke=\"#ff0000\" stroke-width=\"2\" points=\"169.3594,-48.9938 179.9398,-48.4418 171.3245,-42.2753 169.3594,-48.9938\"/>\n",
       "</g>\n",
       "<!-- y -->\n",
       "<g id=\"node5\" class=\"node\">\n",
       "<title>y</title>\n",
       "<ellipse fill=\"none\" stroke=\"#000000\" stroke-width=\"2\" cx=\"27\" cy=\"-21.2132\" rx=\"27\" ry=\"21.4286\"/>\n",
       "<text text-anchor=\"middle\" x=\"27\" y=\"-16.2132\" font-family=\"Helvetica,sans-Serif\" font-size=\"20.00\" fill=\"#000000\">y</text>\n",
       "</g>\n",
       "<!-- y&#45;&gt;1859686420 -->\n",
       "<g id=\"edge7\" class=\"edge\">\n",
       "<title>y&#45;&gt;1859686420</title>\n",
       "<path fill=\"none\" stroke=\"#000000\" stroke-width=\"2\" d=\"M53.0317,-15.0272C61.7072,-14.4799 71.5339,-14.3309 80.8363,-14.5802\"/>\n",
       "<polygon fill=\"#000000\" stroke=\"#000000\" stroke-width=\"2\" points=\"80.8819,-18.0856 91.0268,-15.0309 81.1912,-11.0924 80.8819,-18.0856\"/>\n",
       "</g>\n",
       "<!-- y&#45;&gt;1859686420 -->\n",
       "<g id=\"edge8\" class=\"edge\">\n",
       "<title>y&#45;&gt;1859686420</title>\n",
       "<path fill=\"none\" stroke=\"#000000\" stroke-width=\"2\" d=\"M53.0317,-27.3992C61.7072,-27.9465 71.5339,-28.0955 80.8363,-27.8462\"/>\n",
       "<polygon fill=\"#000000\" stroke=\"#000000\" stroke-width=\"2\" points=\"81.1912,-31.334 91.0268,-27.3955 80.8819,-24.3408 81.1912,-31.334\"/>\n",
       "</g>\n",
       "</g>\n",
       "</svg>\n"
      ]
     },
     "execution_count": 10,
     "metadata": {},
     "output_type": "execute_result"
    }
   ],
   "source": [
    "HTML(q.html())"
   ]
  },
  {
   "cell_type": "code",
   "execution_count": null,
   "outputs": [],
   "source": [
    "q"
   ],
   "metadata": {
    "collapsed": false,
    "pycharm": {
     "name": "#%%\n"
    }
   }
  },
  {
   "cell_type": "code",
   "execution_count": null,
   "outputs": [],
   "source": [],
   "metadata": {
    "collapsed": false,
    "pycharm": {
     "name": "#%%\n"
    }
   }
  },
  {
   "cell_type": "code",
   "execution_count": 12,
   "metadata": {
    "pycharm": {
     "name": "#%%\n"
    }
   },
   "outputs": [
    {
     "data": {
      "text/html": [
       "<svg width=\"332px\" height=\"110px\"\n",
       " viewBox=\"0.00 0.00 332.00 110.43\" xmlns=\"http://www.w3.org/2000/svg\" xmlns:xlink=\"http://www.w3.org/1999/xlink\">\n",
       "<g id=\"graph0\" class=\"graph\" transform=\"scale(1.0 1.0) rotate(0) translate(4 106.4264)\">\n",
       "<title>%3</title>\n",
       "<!-- 1481420857 -->\n",
       "<g id=\"node1\" class=\"node\">\n",
       "<title>1481420857</title>\n",
       "<ellipse fill=\"none\" stroke=\"#000000\" stroke-width=\"2\" cx=\"297\" cy=\"-51.2132\" rx=\"27\" ry=\"21.4286\"/>\n",
       "<text text-anchor=\"middle\" x=\"297\" y=\"-46.2132\" font-family=\"Helvetica,sans-Serif\" font-size=\"20.00\" fill=\"#000000\">+</text>\n",
       "</g>\n",
       "<!-- 936233748 -->\n",
       "<g id=\"node2\" class=\"node\">\n",
       "<title>936233748</title>\n",
       "<ellipse fill=\"none\" stroke=\"#000000\" stroke-width=\"2\" cx=\"207\" cy=\"-51.2132\" rx=\"27\" ry=\"21.4286\"/>\n",
       "<text text-anchor=\"middle\" x=\"207\" y=\"-46.2132\" font-family=\"Helvetica,sans-Serif\" font-size=\"20.00\" fill=\"#000000\">+</text>\n",
       "</g>\n",
       "<!-- 936233748&#45;&gt;1481420857 -->\n",
       "<g id=\"edge1\" class=\"edge\">\n",
       "<title>936233748&#45;&gt;1481420857</title>\n",
       "<path fill=\"none\" stroke=\"#0000ff\" stroke-width=\"2\" d=\"M233.0317,-45.0272C241.7072,-44.4799 251.5339,-44.3309 260.8363,-44.5802\"/>\n",
       "<polygon fill=\"#0000ff\" stroke=\"#0000ff\" stroke-width=\"2\" points=\"260.8819,-48.0856 271.0268,-45.0309 261.1912,-41.0924 260.8819,-48.0856\"/>\n",
       "</g>\n",
       "<!-- 936233748&#45;&gt;1481420857 -->\n",
       "<g id=\"edge2\" class=\"edge\">\n",
       "<title>936233748&#45;&gt;1481420857</title>\n",
       "<path fill=\"none\" stroke=\"#ff0000\" stroke-width=\"2\" d=\"M233.0317,-57.3992C241.7072,-57.9465 251.5339,-58.0955 260.8363,-57.8462\"/>\n",
       "<polygon fill=\"#ff0000\" stroke=\"#ff0000\" stroke-width=\"2\" points=\"261.1912,-61.334 271.0268,-57.3955 260.8819,-54.3408 261.1912,-61.334\"/>\n",
       "</g>\n",
       "<!-- x -->\n",
       "<g id=\"node3\" class=\"node\">\n",
       "<title>x</title>\n",
       "<ellipse fill=\"none\" stroke=\"#000000\" stroke-width=\"2\" cx=\"117\" cy=\"-81.2132\" rx=\"27\" ry=\"21.4286\"/>\n",
       "<text text-anchor=\"middle\" x=\"117\" y=\"-76.2132\" font-family=\"Helvetica,sans-Serif\" font-size=\"20.00\" fill=\"#000000\">x</text>\n",
       "</g>\n",
       "<!-- x&#45;&gt;936233748 -->\n",
       "<g id=\"edge3\" class=\"edge\">\n",
       "<title>x&#45;&gt;936233748</title>\n",
       "<path fill=\"none\" stroke=\"#0000ff\" stroke-width=\"2\" d=\"M138.7865,-68.0728C148.1693,-64.1708 159.4063,-60.1667 170.0268,-56.884\"/>\n",
       "<polygon fill=\"#0000ff\" stroke=\"#0000ff\" stroke-width=\"2\" points=\"171.3245,-60.1511 179.9398,-53.9846 169.3594,-53.4326 171.3245,-60.1511\"/>\n",
       "</g>\n",
       "<!-- x&#45;&gt;936233748 -->\n",
       "<g id=\"edge4\" class=\"edge\">\n",
       "<title>x&#45;&gt;936233748</title>\n",
       "<path fill=\"none\" stroke=\"#0000ff\" stroke-width=\"2\" d=\"M144.003,-78.4575C154.0478,-75.703 165.525,-71.9471 175.907,-68.0325\"/>\n",
       "<polygon fill=\"#0000ff\" stroke=\"#0000ff\" stroke-width=\"2\" points=\"177.4327,-71.1928 185.4428,-64.2581 174.8565,-64.6841 177.4327,-71.1928\"/>\n",
       "</g>\n",
       "<!-- 1859686420 -->\n",
       "<g id=\"node4\" class=\"node\">\n",
       "<title>1859686420</title>\n",
       "<ellipse fill=\"none\" stroke=\"#000000\" stroke-width=\"2\" cx=\"117\" cy=\"-21.2132\" rx=\"27\" ry=\"21.4286\"/>\n",
       "<text text-anchor=\"middle\" x=\"117\" y=\"-16.2132\" font-family=\"Helvetica,sans-Serif\" font-size=\"20.00\" fill=\"#000000\">&#45;</text>\n",
       "</g>\n",
       "<!-- 1859686420&#45;&gt;936233748 -->\n",
       "<g id=\"edge5\" class=\"edge\">\n",
       "<title>1859686420&#45;&gt;936233748</title>\n",
       "<path fill=\"none\" stroke=\"#ff0000\" stroke-width=\"2\" d=\"M144.003,-23.9689C154.0478,-26.7234 165.525,-30.4793 175.907,-34.3939\"/>\n",
       "<polygon fill=\"#ff0000\" stroke=\"#ff0000\" stroke-width=\"2\" points=\"174.8565,-37.7423 185.4428,-38.1683 177.4327,-31.2336 174.8565,-37.7423\"/>\n",
       "</g>\n",
       "<!-- 1859686420&#45;&gt;936233748 -->\n",
       "<g id=\"edge6\" class=\"edge\">\n",
       "<title>1859686420&#45;&gt;936233748</title>\n",
       "<path fill=\"none\" stroke=\"#ff0000\" stroke-width=\"2\" d=\"M138.7865,-34.3536C148.1693,-38.2556 159.4063,-42.2597 170.0268,-45.5424\"/>\n",
       "<polygon fill=\"#ff0000\" stroke=\"#ff0000\" stroke-width=\"2\" points=\"169.3594,-48.9938 179.9398,-48.4418 171.3245,-42.2753 169.3594,-48.9938\"/>\n",
       "</g>\n",
       "<!-- y -->\n",
       "<g id=\"node5\" class=\"node\">\n",
       "<title>y</title>\n",
       "<ellipse fill=\"none\" stroke=\"#000000\" stroke-width=\"2\" cx=\"27\" cy=\"-21.2132\" rx=\"27\" ry=\"21.4286\"/>\n",
       "<text text-anchor=\"middle\" x=\"27\" y=\"-16.2132\" font-family=\"Helvetica,sans-Serif\" font-size=\"20.00\" fill=\"#000000\">y</text>\n",
       "</g>\n",
       "<!-- y&#45;&gt;1859686420 -->\n",
       "<g id=\"edge7\" class=\"edge\">\n",
       "<title>y&#45;&gt;1859686420</title>\n",
       "<path fill=\"none\" stroke=\"#000000\" stroke-width=\"2\" d=\"M53.0317,-15.0272C61.7072,-14.4799 71.5339,-14.3309 80.8363,-14.5802\"/>\n",
       "<polygon fill=\"#000000\" stroke=\"#000000\" stroke-width=\"2\" points=\"80.8819,-18.0856 91.0268,-15.0309 81.1912,-11.0924 80.8819,-18.0856\"/>\n",
       "</g>\n",
       "<!-- y&#45;&gt;1859686420 -->\n",
       "<g id=\"edge8\" class=\"edge\">\n",
       "<title>y&#45;&gt;1859686420</title>\n",
       "<path fill=\"none\" stroke=\"#000000\" stroke-width=\"2\" d=\"M53.0317,-27.3992C61.7072,-27.9465 71.5339,-28.0955 80.8363,-27.8462\"/>\n",
       "<polygon fill=\"#000000\" stroke=\"#000000\" stroke-width=\"2\" points=\"81.1912,-31.334 91.0268,-27.3955 80.8819,-24.3408 81.1912,-31.334\"/>\n",
       "</g>\n",
       "</g>\n",
       "</svg>\n"
      ]
     },
     "execution_count": 12,
     "metadata": {},
     "output_type": "execute_result"
    }
   ],
   "source": [
    "q"
   ]
  },
  {
   "cell_type": "code",
   "execution_count": null,
   "metadata": {
    "pycharm": {
     "name": "#%%\n"
    }
   },
   "outputs": [],
   "source": []
  },
  {
   "cell_type": "code",
   "execution_count": 9,
   "metadata": {
    "pycharm": {
     "name": "#%%\n"
    }
   },
   "outputs": [
    {
     "data": {
      "text/plain": [
       "(x) + (y)"
      ]
     },
     "execution_count": 9,
     "metadata": {},
     "output_type": "execute_result"
    }
   ],
   "source": [
    "q"
   ]
  },
  {
   "cell_type": "code",
   "execution_count": null,
   "metadata": {
    "pycharm": {
     "name": "#%%\n"
    }
   },
   "outputs": [],
   "source": []
  },
  {
   "cell_type": "code",
   "execution_count": 5,
   "metadata": {},
   "outputs": [
    {
     "data": {
      "text/plain": [
       "(x) + (y)"
      ]
     },
     "execution_count": 5,
     "metadata": {},
     "output_type": "execute_result"
    }
   ],
   "source": [
    "q"
   ]
  },
  {
   "cell_type": "code",
   "execution_count": null,
   "metadata": {},
   "outputs": [],
   "source": []
  }
 ],
 "metadata": {
  "kernelspec": {
   "display_name": "Kotlin",
   "language": "kotlin",
   "name": "kotlin"
  },
  "language_info": {
   "codemirror_mode": "text/x-kotlin",
   "file_extension": ".kt",
   "mimetype": "text/x-kotlin",
   "name": "kotlin",
   "pygments_lexer": "kotlin",
   "version": "1.4.0-dev-7916"
  }
 },
 "nbformat": 4,
 "nbformat_minor": 4
}