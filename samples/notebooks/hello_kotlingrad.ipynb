{
 "cells": [
  {
   "cell_type": "code",
   "execution_count": 1,
   "metadata": {},
   "outputs": [],
   "source": [
    "%use kotlingrad"
   ]
  },
  {
   "cell_type": "code",
   "execution_count": 2,
   "metadata": {
    "pycharm": {
     "name": "#%%\n"
    },
    "scrolled": true
   },
   "outputs": [
    {
     "data": {
      "text/html": [
       "<svg width=\"242px\" height=\"140px\"\n",
       " viewBox=\"0.00 0.00 242.00 140.43\" xmlns=\"http://www.w3.org/2000/svg\" xmlns:xlink=\"http://www.w3.org/1999/xlink\">\n",
       "<g id=\"graph0\" class=\"graph\" transform=\"scale(1.0 1.0) rotate(0) translate(4 136.4264)\">\n",
       "<title>%3</title>\n",
       "<!-- 215376372 -->\n",
       "<g id=\"node1\" class=\"node\">\n",
       "<title>215376372</title>\n",
       "<ellipse fill=\"none\" stroke=\"#000000\" stroke-width=\"2\" cx=\"207\" cy=\"-51.2132\" rx=\"27\" ry=\"21.4286\"/>\n",
       "<text text-anchor=\"middle\" x=\"207\" y=\"-46.2132\" font-family=\"Helvetica,sans-Serif\" font-size=\"20.00\" fill=\"#000000\">+</text>\n",
       "</g>\n",
       "<!-- 1565474861 -->\n",
       "<g id=\"node2\" class=\"node\">\n",
       "<title>1565474861</title>\n",
       "<ellipse fill=\"none\" stroke=\"#000000\" stroke-width=\"2\" cx=\"117\" cy=\"-81.2132\" rx=\"27\" ry=\"21.4286\"/>\n",
       "<text text-anchor=\"middle\" x=\"117\" y=\"-76.2132\" font-family=\"Helvetica,sans-Serif\" font-size=\"20.00\" fill=\"#000000\">+</text>\n",
       "</g>\n",
       "<!-- 1565474861&#45;&gt;215376372 -->\n",
       "<g id=\"edge1\" class=\"edge\">\n",
       "<title>1565474861&#45;&gt;215376372</title>\n",
       "<path fill=\"none\" stroke=\"#0000ff\" stroke-width=\"2\" d=\"M142.07,-72.8565C151.4322,-69.7358 162.2367,-66.1343 172.3123,-62.7758\"/>\n",
       "<polygon fill=\"#0000ff\" stroke=\"#0000ff\" stroke-width=\"2\" points=\"173.6844,-66.0078 182.0644,-59.5251 171.4708,-59.367 173.6844,-66.0078\"/>\n",
       "</g>\n",
       "<!-- x -->\n",
       "<g id=\"node3\" class=\"node\">\n",
       "<title>x</title>\n",
       "<ellipse fill=\"none\" stroke=\"#000000\" stroke-width=\"2\" cx=\"27\" cy=\"-111.2132\" rx=\"27\" ry=\"21.4286\"/>\n",
       "<text text-anchor=\"middle\" x=\"27\" y=\"-106.2132\" font-family=\"Helvetica,sans-Serif\" font-size=\"20.00\" fill=\"#000000\">x</text>\n",
       "</g>\n",
       "<!-- x&#45;&gt;1565474861 -->\n",
       "<g id=\"edge2\" class=\"edge\">\n",
       "<title>x&#45;&gt;1565474861</title>\n",
       "<path fill=\"none\" stroke=\"#0000ff\" stroke-width=\"2\" d=\"M52.07,-102.8565C61.4322,-99.7358 72.2367,-96.1343 82.3123,-92.7758\"/>\n",
       "<polygon fill=\"#0000ff\" stroke=\"#0000ff\" stroke-width=\"2\" points=\"83.6844,-96.0078 92.0644,-89.5251 81.4708,-89.367 83.6844,-96.0078\"/>\n",
       "</g>\n",
       "<!-- y -->\n",
       "<g id=\"node4\" class=\"node\">\n",
       "<title>y</title>\n",
       "<ellipse fill=\"none\" stroke=\"#000000\" stroke-width=\"2\" cx=\"27\" cy=\"-51.2132\" rx=\"27\" ry=\"21.4286\"/>\n",
       "<text text-anchor=\"middle\" x=\"27\" y=\"-46.2132\" font-family=\"Helvetica,sans-Serif\" font-size=\"20.00\" fill=\"#000000\">y</text>\n",
       "</g>\n",
       "<!-- y&#45;&gt;1565474861 -->\n",
       "<g id=\"edge3\" class=\"edge\">\n",
       "<title>y&#45;&gt;1565474861</title>\n",
       "<path fill=\"none\" stroke=\"#ff0000\" stroke-width=\"2\" d=\"M52.07,-59.5699C61.4322,-62.6906 72.2367,-66.2921 82.3123,-69.6506\"/>\n",
       "<polygon fill=\"#ff0000\" stroke=\"#ff0000\" stroke-width=\"2\" points=\"81.4708,-73.0594 92.0644,-72.9013 83.6844,-66.4186 81.4708,-73.0594\"/>\n",
       "</g>\n",
       "<!-- z -->\n",
       "<g id=\"node5\" class=\"node\">\n",
       "<title>z</title>\n",
       "<ellipse fill=\"none\" stroke=\"#000000\" stroke-width=\"2\" cx=\"117\" cy=\"-21.2132\" rx=\"27\" ry=\"21.4286\"/>\n",
       "<text text-anchor=\"middle\" x=\"117\" y=\"-16.2132\" font-family=\"Helvetica,sans-Serif\" font-size=\"20.00\" fill=\"#000000\">z</text>\n",
       "</g>\n",
       "<!-- z&#45;&gt;215376372 -->\n",
       "<g id=\"edge4\" class=\"edge\">\n",
       "<title>z&#45;&gt;215376372</title>\n",
       "<path fill=\"none\" stroke=\"#ff0000\" stroke-width=\"2\" d=\"M142.07,-29.5699C151.4322,-32.6906 162.2367,-36.2921 172.3123,-39.6506\"/>\n",
       "<polygon fill=\"#ff0000\" stroke=\"#ff0000\" stroke-width=\"2\" points=\"171.4708,-43.0594 182.0644,-42.9013 173.6844,-36.4186 171.4708,-43.0594\"/>\n",
       "</g>\n",
       "</g>\n",
       "</svg>\n"
      ]
     },
     "execution_count": 2,
     "metadata": {},
     "output_type": "execute_result"
    }
   ],
   "source": [
    "with(DoublePrecision) {\n",
    "    val t = x + y + z\n",
    "    t\n",
    "}"
   ]
  }
 ],
 "metadata": {
  "kernelspec": {
   "display_name": "Kotlin",
   "language": "kotlin",
   "name": "kotlin"
  },
  "language_info": {
   "codemirror_mode": "text/x-kotlin",
   "file_extension": ".kt",
   "mimetype": "text/x-kotlin",
   "name": "kotlin",
   "pygments_lexer": "kotlin",
   "version": "1.4.0-dev-7916"
  }
 },
 "nbformat": 4,
 "nbformat_minor": 4
}