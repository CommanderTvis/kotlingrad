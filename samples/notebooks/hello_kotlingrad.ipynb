{
 "cells": [
  {
   "cell_type": "code",
   "execution_count": null,
   "metadata": {},
   "outputs": [],
   "source": [
    "%use kotlingrad"
   ]
  },
  {
   "cell_type": "code",
   "execution_count": 2,
   "metadata": {},
   "outputs": [
    {
     "name": "stderr",
     "output_type": "stream",
     "text": [
      "Line_1.jupyter.kts (1:10 - 14) Unresolved reference: SVar\n",
      "Line_1.jupyter.kts (1:15 - 20) Unresolved reference: DReal\n",
      "Line_1.jupyter.kts (2:10 - 14) Unresolved reference: SVar\n",
      "Line_1.jupyter.kts (2:15 - 20) Unresolved reference: DReal\n",
      "Line_1.jupyter.kts (3:10 - 14) Unresolved reference: SVar\n",
      "Line_1.jupyter.kts (3:15 - 20) Unresolved reference: DReal"
     ]
    }
   ],
   "source": [
    "val x by SVar(DReal)\n",
    "val y by SVar(DReal)\n",
    "val z by SVar(DReal)"
   ]
  },
  {
   "cell_type": "code",
   "execution_count": 3,
   "metadata": {},
   "outputs": [
    {
     "name": "stderr",
     "output_type": "stream",
     "text": [
      "Line_2.jupyter.kts (1:14 - 15) Unresolved reference: x\n",
      "Line_2.jupyter.kts (1:26 - 27) Unresolved reference: y\n",
      "Line_2.jupyter.kts (1:30 - 31) Unresolved reference: z\n",
      "Line_2.jupyter.kts (1:34 - 35) Unresolved reference: y\n",
      "Line_2.jupyter.kts (1:39 - 40) Unresolved reference: y\n",
      "Line_2.jupyter.kts (1:44 - 45) Unresolved reference: x\n",
      "Line_2.jupyter.kts (1:49 - 50) Unresolved reference: z\n",
      "Line_2.jupyter.kts (1:53 - 54) Unresolved reference: y"
     ]
    }
   ],
   "source": [
    "val t = (1 + x * 2 - 3 + y + z / y).d(y).d(x) + z / y * 3 - 2"
   ]
  },
  {
   "cell_type": "code",
   "execution_count": 4,
   "metadata": {
    "scrolled": true
   },
   "outputs": [
    {
     "name": "stderr",
     "output_type": "stream",
     "text": [
      "Line_3.jupyter.kts (1:1 - 2) Unresolved reference: t"
     ]
    }
   ],
   "source": [
    "t"
   ]
  },
  {
   "cell_type": "code",
   "execution_count": null,
   "metadata": {},
   "outputs": [],
   "source": []
  }
 ],
 "metadata": {
  "kernelspec": {
   "display_name": "Kotlin",
   "language": "kotlin",
   "name": "kotlin"
  },
  "language_info": {
   "codemirror_mode": "text/x-kotlin",
   "file_extension": ".kt",
   "mimetype": "text/x-kotlin",
   "name": "kotlin",
   "pygments_lexer": "kotlin",
   "version": "1.4.20-dev-2342"
  }
 },
 "nbformat": 4,
 "nbformat_minor": 4
}
